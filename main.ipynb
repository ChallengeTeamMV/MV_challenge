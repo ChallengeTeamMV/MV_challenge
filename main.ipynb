{
 "cells": [
  {
   "cell_type": "code",
   "execution_count": 52,
   "metadata": {},
   "outputs": [
    {
     "name": "stdout",
     "output_type": "stream",
     "text": [
      "['sku', 'categoryLevel1Id', 'categoryLevel2Id', 'brandId', 'property', 'userName', 'reting', 'date', 'comment', 'commentNegative', 'commentPositive']\n"
     ]
    }
   ],
   "source": [
    "# Обеспечим совместимость с Python 2 и 3\n",
    "# pip install future\n",
    "from __future__ import (absolute_import, division,\n",
    "                        print_function, unicode_literals)\n",
    "\n",
    "# отключим предупреждения Anaconda\n",
    "import warnings\n",
    "warnings.simplefilter('ignore')\n",
    "\n",
    "# импортируем Pandas и Numpy\n",
    "import pandas as pd\n",
    "import numpy as np\n",
    "df = pd.read_csv('X_train.csv')\n",
    "pd.set_option('display.max_columns', 20)\n",
    "pd.set_option('display.max_rows', 1000)\n",
    "cols = list(df.columns.values)\n",
    "print(cols)\n",
    "\n",
    "df_nes=df[['sku', 'categoryLevel2Id' , 'brandId', 'userName', 'reting' , 'comment' , 'commentNegative', 'commentPositive']]\n",
    "\n",
    "#df_nes.head(n=100)\n",
    "df_nes_learn=df_nes.head(n=10000)\n",
    "df_nes_tail=df_nes.tail(n=5550)\n",
    "df_ne"
   ]
  },
  {
   "cell_type": "markdown",
   "metadata": {},
   "source": [
    "Всё нужное импортировали, можно писать код"
   ]
  }
 ],
 "metadata": {
  "kernelspec": {
   "display_name": "Python 3",
   "language": "python",
   "name": "python3"
  },
  "language_info": {
   "codemirror_mode": {
    "name": "ipython",
    "version": 3
   },
   "file_extension": ".py",
   "mimetype": "text/x-python",
   "name": "python",
   "nbconvert_exporter": "python",
   "pygments_lexer": "ipython3",
   "version": "3.6.1"
  }
 },
 "nbformat": 4,
 "nbformat_minor": 2
}
